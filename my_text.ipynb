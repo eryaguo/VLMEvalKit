{
 "cells": [
  {
   "cell_type": "code",
   "execution_count": 3,
   "metadata": {},
   "outputs": [
    {
     "name": "stderr",
     "output_type": "stream",
     "text": [
      "[2024-11-13 13:52:32,969] INFO - ChatAPI - swissai.py: __init__ - 94: Using API Base: http://148.187.108.173:8080; API Key: sk-rc-yIlOLDL-LMv_vAcRPPd15w\n",
      "[2024-11-13 13:52:32] INFO - swissai.py: __init__ - 94: Using API Base: http://148.187.108.173:8080; API Key: sk-rc-yIlOLDL-LMv_vAcRPPd15w\n",
      "[2024-11-13 13:52:32,976] INFO - ChatAPI - swissai.py: __init__ - 94: Using API Base: http://148.187.108.173:8080; API Key: sk-rc-yIlOLDL-LMv_vAcRPPd15w\n",
      "[2024-11-13 13:52:32] INFO - swissai.py: __init__ - 94: Using API Base: http://148.187.108.173:8080; API Key: sk-rc-yIlOLDL-LMv_vAcRPPd15w\n"
     ]
    },
    {
     "data": {
      "application/vnd.jupyter.widget-view+json": {
       "model_id": "7bf8a6a4885c4ad294a32bdcd4f72120",
       "version_major": 2,
       "version_minor": 0
      },
      "text/plain": [
       "Output()"
      ]
     },
     "metadata": {},
     "output_type": "display_data"
    },
    {
     "data": {
      "text/html": [
       "<pre style=\"white-space:pre;overflow-x:auto;line-height:normal;font-family:Menlo,'DejaVu Sans Mono',consolas,'Courier New',monospace\"></pre>\n"
      ],
      "text/plain": []
     },
     "metadata": {},
     "output_type": "display_data"
    },
    {
     "name": "stderr",
     "output_type": "stream",
     "text": [
      "[2024-11-13 13:52:33,608] ERROR - RUN - run.py: main - 242: Model SWISSAI-LLAMA3.2-90 x Dataset MMStar combination failed: module '__main__' has no attribute '__spec__', skipping this combination.\n",
      "Traceback (most recent call last):\n",
      "  File \"C:\\Users\\eryag\\Desktop\\VLMEvalKit\\run.py\", line 154, in main\n",
      "    model = infer_data_job(\n",
      "  File \"C:\\Users\\eryag\\Desktop\\VLMEvalKit\\vlmeval\\inference.py\", line 164, in infer_data_job\n",
      "    model = infer_data(\n",
      "  File \"C:\\Users\\eryag\\Desktop\\VLMEvalKit\\vlmeval\\inference.py\", line 104, in infer_data\n",
      "    supp = infer_data_api(\n",
      "  File \"C:\\Users\\eryag\\Desktop\\VLMEvalKit\\vlmeval\\inference.py\", line 62, in infer_data_api\n",
      "    track_progress_rich(gen_func, structs, nproc=api_nproc, chunksize=api_nproc, save=out_file, keys=indices)\n",
      "  File \"C:\\Users\\eryag\\Desktop\\VLMEvalKit\\vlmeval\\utils\\mp_util.py\", line 163, in track_progress_rich\n",
      "    with Pool(nproc) as pool:\n",
      "  File \"c:\\Users\\eryag\\AppData\\Local\\Programs\\Python\\Python310\\lib\\multiprocessing\\context.py\", line 119, in Pool\n",
      "    return Pool(processes, initializer, initargs, maxtasksperchild,\n",
      "  File \"c:\\Users\\eryag\\AppData\\Local\\Programs\\Python\\Python310\\lib\\multiprocessing\\pool.py\", line 212, in __init__\n",
      "    self._repopulate_pool()\n",
      "  File \"c:\\Users\\eryag\\AppData\\Local\\Programs\\Python\\Python310\\lib\\multiprocessing\\pool.py\", line 303, in _repopulate_pool\n",
      "    return self._repopulate_pool_static(self._ctx, self.Process,\n",
      "  File \"c:\\Users\\eryag\\AppData\\Local\\Programs\\Python\\Python310\\lib\\multiprocessing\\pool.py\", line 326, in _repopulate_pool_static\n",
      "    w.start()\n",
      "  File \"c:\\Users\\eryag\\AppData\\Local\\Programs\\Python\\Python310\\lib\\multiprocessing\\process.py\", line 121, in start\n",
      "    self._popen = self._Popen(self)\n",
      "  File \"c:\\Users\\eryag\\AppData\\Local\\Programs\\Python\\Python310\\lib\\multiprocessing\\context.py\", line 327, in _Popen\n",
      "    return Popen(process_obj)\n",
      "  File \"c:\\Users\\eryag\\AppData\\Local\\Programs\\Python\\Python310\\lib\\multiprocessing\\popen_spawn_win32.py\", line 45, in __init__\n",
      "    prep_data = spawn.get_preparation_data(process_obj._name)\n",
      "  File \"c:\\Users\\eryag\\AppData\\Local\\Programs\\Python\\Python310\\lib\\multiprocessing\\spawn.py\", line 183, in get_preparation_data\n",
      "    main_mod_name = getattr(main_module.__spec__, \"name\", None)\n",
      "AttributeError: module '__main__' has no attribute '__spec__'\n",
      "[2024-11-13 13:52:33] ERROR - run.py: main - 242: Model SWISSAI-LLAMA3.2-90 x Dataset MMStar combination failed: module '__main__' has no attribute '__spec__', skipping this combination.\n",
      "Traceback (most recent call last):\n",
      "  File \"C:\\Users\\eryag\\Desktop\\VLMEvalKit\\run.py\", line 154, in main\n",
      "    model = infer_data_job(\n",
      "  File \"C:\\Users\\eryag\\Desktop\\VLMEvalKit\\vlmeval\\inference.py\", line 164, in infer_data_job\n",
      "    model = infer_data(\n",
      "  File \"C:\\Users\\eryag\\Desktop\\VLMEvalKit\\vlmeval\\inference.py\", line 104, in infer_data\n",
      "    supp = infer_data_api(\n",
      "  File \"C:\\Users\\eryag\\Desktop\\VLMEvalKit\\vlmeval\\inference.py\", line 62, in infer_data_api\n",
      "    track_progress_rich(gen_func, structs, nproc=api_nproc, chunksize=api_nproc, save=out_file, keys=indices)\n",
      "  File \"C:\\Users\\eryag\\Desktop\\VLMEvalKit\\vlmeval\\utils\\mp_util.py\", line 163, in track_progress_rich\n",
      "    with Pool(nproc) as pool:\n",
      "  File \"c:\\Users\\eryag\\AppData\\Local\\Programs\\Python\\Python310\\lib\\multiprocessing\\context.py\", line 119, in Pool\n",
      "    return Pool(processes, initializer, initargs, maxtasksperchild,\n",
      "  File \"c:\\Users\\eryag\\AppData\\Local\\Programs\\Python\\Python310\\lib\\multiprocessing\\pool.py\", line 212, in __init__\n",
      "    self._repopulate_pool()\n",
      "  File \"c:\\Users\\eryag\\AppData\\Local\\Programs\\Python\\Python310\\lib\\multiprocessing\\pool.py\", line 303, in _repopulate_pool\n",
      "    return self._repopulate_pool_static(self._ctx, self.Process,\n",
      "  File \"c:\\Users\\eryag\\AppData\\Local\\Programs\\Python\\Python310\\lib\\multiprocessing\\pool.py\", line 326, in _repopulate_pool_static\n",
      "    w.start()\n",
      "  File \"c:\\Users\\eryag\\AppData\\Local\\Programs\\Python\\Python310\\lib\\multiprocessing\\process.py\", line 121, in start\n",
      "    self._popen = self._Popen(self)\n",
      "  File \"c:\\Users\\eryag\\AppData\\Local\\Programs\\Python\\Python310\\lib\\multiprocessing\\context.py\", line 327, in _Popen\n",
      "    return Popen(process_obj)\n",
      "  File \"c:\\Users\\eryag\\AppData\\Local\\Programs\\Python\\Python310\\lib\\multiprocessing\\popen_spawn_win32.py\", line 45, in __init__\n",
      "    prep_data = spawn.get_preparation_data(process_obj._name)\n",
      "  File \"c:\\Users\\eryag\\AppData\\Local\\Programs\\Python\\Python310\\lib\\multiprocessing\\spawn.py\", line 183, in get_preparation_data\n",
      "    main_mod_name = getattr(main_module.__spec__, \"name\", None)\n",
      "AttributeError: module '__main__' has no attribute '__spec__'\n"
     ]
    }
   ],
   "source": [
    "import multiprocessing\n",
    "multiprocessing.freeze_support()\n",
    "%run run.py --data MMStar --model SWISSAI-LLAMA3.2-90 --verbose"
   ]
  }
 ],
 "metadata": {
  "kernelspec": {
   "display_name": "Python 3",
   "language": "python",
   "name": "python3"
  },
  "language_info": {
   "codemirror_mode": {
    "name": "ipython",
    "version": 3
   },
   "file_extension": ".py",
   "mimetype": "text/x-python",
   "name": "python",
   "nbconvert_exporter": "python",
   "pygments_lexer": "ipython3",
   "version": "3.10.0"
  }
 },
 "nbformat": 4,
 "nbformat_minor": 2
}
